{
 "cells": [
  {
   "cell_type": "markdown",
   "metadata": {},
   "source": [
    "Check conversion between map and harmonic coefficients (alm)"
   ]
  },
  {
   "cell_type": "code",
   "execution_count": 9,
   "metadata": {},
   "outputs": [],
   "source": [
    "import numpy as np\n",
    "import healpy as hp\n",
    "import cmblensplus.curvedsky as cs\n",
    "import tqdm"
   ]
  },
  {
   "cell_type": "code",
   "execution_count": 2,
   "metadata": {},
   "outputs": [],
   "source": [
    "lmax = 1000\n",
    "cl = np.ones(lmax+1)\n",
    "nside = 512"
   ]
  },
  {
   "cell_type": "markdown",
   "metadata": {},
   "source": [
    "Generate alm from healpy software"
   ]
  },
  {
   "cell_type": "code",
   "execution_count": 3,
   "metadata": {},
   "outputs": [
    {
     "data": {
      "text/plain": [
       "(-0.8257136235888776-0.926988671274028j)"
      ]
     },
     "execution_count": 3,
     "metadata": {},
     "output_type": "execute_result"
    }
   ],
   "source": [
    "hlm = hp.sphtfunc.synalm(cl,lmax)\n",
    "hlm[hp.sphtfunc.Alm.getidx(lmax,10,9)]"
   ]
  },
  {
   "cell_type": "markdown",
   "metadata": {},
   "source": [
    "Convert order of alm array index (from healpy to Healpix)"
   ]
  },
  {
   "cell_type": "code",
   "execution_count": 4,
   "metadata": {},
   "outputs": [
    {
     "name": "stdout",
     "output_type": "stream",
     "text": [
      "(1001, 1001)\n",
      "(-0.8257136235888776-0.926988671274028j)\n"
     ]
    }
   ],
   "source": [
    "alm = cs.utils.lm_healpy2healpix(hlm)\n",
    "print(np.shape(alm))\n",
    "print(alm[10,9])"
   ]
  },
  {
   "cell_type": "markdown",
   "metadata": {},
   "source": [
    "Compare at map level"
   ]
  },
  {
   "cell_type": "code",
   "execution_count": 5,
   "metadata": {},
   "outputs": [
    {
     "name": "stdout",
     "output_type": "stream",
     "text": [
      "[ 242.02340644   30.59378631 -378.26428339 ... -424.66293975 -726.90861535\n",
      " -303.05553979]\n"
     ]
    },
    {
     "name": "stderr",
     "output_type": "stream",
     "text": [
      "/tmp/ipykernel_829434/727419151.py:1: HealpyDeprecationWarning: \"verbose\" was deprecated in version 1.15.0 and will be removed in a future version. \n",
      "  hmap = hp.sphtfunc.alm2map(hlm,nside,verbose=False)\n"
     ]
    }
   ],
   "source": [
    "hmap = hp.sphtfunc.alm2map(hlm,nside,verbose=False)\n",
    "print(hmap)"
   ]
  },
  {
   "cell_type": "code",
   "execution_count": 6,
   "metadata": {},
   "outputs": [
    {
     "name": "stdout",
     "output_type": "stream",
     "text": [
      "[ 242.02340644   30.59378631 -378.26428339 ... -424.66293975 -726.90861535\n",
      " -303.05553979]\n"
     ]
    }
   ],
   "source": [
    "map = cs.utils.hp_alm2map(nside,alm)\n",
    "print(map)"
   ]
  },
  {
   "cell_type": "markdown",
   "metadata": {},
   "source": [
    "Convert back to alm"
   ]
  },
  {
   "cell_type": "code",
   "execution_count": 7,
   "metadata": {},
   "outputs": [
    {
     "name": "stdout",
     "output_type": "stream",
     "text": [
      "(-0.8257148388601427-0.9269906147489859j)\n"
     ]
    }
   ],
   "source": [
    "blm = cs.utils.hp_map2alm(lmax,lmax,map)\n",
    "print(blm[10,9])"
   ]
  },
  {
   "cell_type": "code",
   "execution_count": 8,
   "metadata": {},
   "outputs": [
    {
     "name": "stdout",
     "output_type": "stream",
     "text": [
      "(-0.825713623588866-0.9269886712740372j)\n"
     ]
    }
   ],
   "source": [
    "ilm = hp.sphtfunc.map2alm(hmap,lmax)\n",
    "print(ilm[hp.sphtfunc.Alm.getidx(lmax,10,9)])"
   ]
  },
  {
   "cell_type": "markdown",
   "metadata": {},
   "source": [
    "check speed"
   ]
  },
  {
   "cell_type": "code",
   "execution_count": 12,
   "metadata": {},
   "outputs": [
    {
     "name": "stderr",
     "output_type": "stream",
     "text": [
      "100%|██████████| 10/10 [00:00<00:00, 15.68it/s]\n"
     ]
    }
   ],
   "source": [
    "# cmblensplus\n",
    "for i in tqdm.tqdm(range(10)):\n",
    "    cs.utils.hp_map2alm(lmax,lmax,map)"
   ]
  },
  {
   "cell_type": "code",
   "execution_count": 13,
   "metadata": {},
   "outputs": [
    {
     "name": "stderr",
     "output_type": "stream",
     "text": [
      "100%|██████████| 10/10 [00:08<00:00,  1.19it/s]\n"
     ]
    }
   ],
   "source": [
    "# healpy\n",
    "for i in tqdm.tqdm(range(10)):\n",
    "    ilm = hp.sphtfunc.map2alm(hmap,lmax)"
   ]
  },
  {
   "cell_type": "code",
   "execution_count": null,
   "metadata": {},
   "outputs": [],
   "source": []
  }
 ],
 "metadata": {
  "kernelspec": {
   "display_name": "py_v3_11",
   "language": "python",
   "name": "py_v3_11"
  },
  "language_info": {
   "codemirror_mode": {
    "name": "ipython",
    "version": 3
   },
   "file_extension": ".py",
   "mimetype": "text/x-python",
   "name": "python",
   "nbconvert_exporter": "python",
   "pygments_lexer": "ipython3",
   "version": "3.11.8"
  }
 },
 "nbformat": 4,
 "nbformat_minor": 4
}
