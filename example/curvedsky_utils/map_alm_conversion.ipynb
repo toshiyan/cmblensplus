{
 "cells": [
  {
   "cell_type": "markdown",
   "metadata": {},
   "source": [
    "Check conversion between map and harmonic coefficients (alm)"
   ]
  },
  {
   "cell_type": "code",
   "execution_count": 1,
   "metadata": {},
   "outputs": [],
   "source": [
    "import numpy as np\n",
    "import healpy as hp\n",
    "import curvedsky as cs"
   ]
  },
  {
   "cell_type": "code",
   "execution_count": 2,
   "metadata": {},
   "outputs": [],
   "source": [
    "lmax = 1000\n",
    "cl = np.ones(lmax+1)\n",
    "nside = 512"
   ]
  },
  {
   "cell_type": "markdown",
   "metadata": {},
   "source": [
    "Generate alm from healpy software"
   ]
  },
  {
   "cell_type": "code",
   "execution_count": 3,
   "metadata": {},
   "outputs": [
    {
     "data": {
      "text/plain": [
       "np.complex128(0.10320091529084174-0.7528546839779058j)"
      ]
     },
     "execution_count": 3,
     "metadata": {},
     "output_type": "execute_result"
    }
   ],
   "source": [
    "hlm = hp.sphtfunc.synalm(cl,lmax)\n",
    "hlm[hp.sphtfunc.Alm.getidx(lmax,10,9)]"
   ]
  },
  {
   "cell_type": "markdown",
   "metadata": {},
   "source": [
    "Convert order of alm array index (from healpy to Healpix)"
   ]
  },
  {
   "cell_type": "code",
   "execution_count": 4,
   "metadata": {},
   "outputs": [
    {
     "name": "stdout",
     "output_type": "stream",
     "text": [
      "(1001, 1001)\n",
      "(0.10320091529084174-0.7528546839779058j)\n"
     ]
    }
   ],
   "source": [
    "alm = cs.utils.lm_healpy2healpix(hlm, lmax)\n",
    "print(np.shape(alm))\n",
    "print(alm[10,9])"
   ]
  },
  {
   "cell_type": "markdown",
   "metadata": {},
   "source": [
    "Compare at map level"
   ]
  },
  {
   "cell_type": "code",
   "execution_count": 5,
   "metadata": {},
   "outputs": [
    {
     "name": "stdout",
     "output_type": "stream",
     "text": [
      "[-258.30238176 -589.45000897 -538.73776487 ...  -10.90346632  148.12698036\n",
      "   63.6755291 ]\n"
     ]
    },
    {
     "name": "stderr",
     "output_type": "stream",
     "text": [
      "/tmp/ipykernel_1947688/727419151.py:1: HealpyDeprecationWarning: \"verbose\" was deprecated in version 1.15.0 and will be removed in a future version. \n",
      "  hmap = hp.sphtfunc.alm2map(hlm,nside,verbose=False)\n"
     ]
    }
   ],
   "source": [
    "hmap = hp.sphtfunc.alm2map(hlm,nside,verbose=False)\n",
    "print(hmap)"
   ]
  },
  {
   "cell_type": "code",
   "execution_count": 6,
   "metadata": {},
   "outputs": [
    {
     "name": "stdout",
     "output_type": "stream",
     "text": [
      "[-258.30238176 -589.45000897 -538.73776487 ...  -10.90346632  148.12698036\n",
      "   63.6755291 ]\n"
     ]
    }
   ],
   "source": [
    "map = cs.utils.hp_alm2map(nside,lmax,lmax,alm)\n",
    "print(map)"
   ]
  },
  {
   "cell_type": "markdown",
   "metadata": {},
   "source": [
    "Convert back to alm"
   ]
  },
  {
   "cell_type": "code",
   "execution_count": 7,
   "metadata": {},
   "outputs": [
    {
     "name": "stdout",
     "output_type": "stream",
     "text": [
      "(0.10320079520833601-0.7528544181132433j)\n"
     ]
    }
   ],
   "source": [
    "blm = cs.utils.hp_map2alm(nside,lmax,lmax,map)\n",
    "print(blm[10,9])"
   ]
  },
  {
   "cell_type": "code",
   "execution_count": 8,
   "metadata": {},
   "outputs": [
    {
     "name": "stdout",
     "output_type": "stream",
     "text": [
      "(0.1032009152908306-0.7528546839778995j)\n"
     ]
    }
   ],
   "source": [
    "ilm = hp.sphtfunc.map2alm(hmap,lmax)\n",
    "print(ilm[hp.sphtfunc.Alm.getidx(lmax,10,9)])"
   ]
  },
  {
   "cell_type": "code",
   "execution_count": null,
   "metadata": {},
   "outputs": [],
   "source": []
  }
 ],
 "metadata": {
  "kernelspec": {
   "display_name": "py_v3_13",
   "language": "python",
   "name": "py_v3_13"
  },
  "language_info": {
   "codemirror_mode": {
    "name": "ipython",
    "version": 3
   },
   "file_extension": ".py",
   "mimetype": "text/x-python",
   "name": "python",
   "nbconvert_exporter": "python",
   "pygments_lexer": "ipython3",
   "version": "3.13.1"
  }
 },
 "nbformat": 4,
 "nbformat_minor": 4
}
