{
 "cells": [
  {
   "cell_type": "code",
   "execution_count": 4,
   "id": "8c99b2bb-497c-4e5a-b376-a8b0479c182f",
   "metadata": {
    "tags": []
   },
   "outputs": [],
   "source": [
    "import cmb\n",
    "from matplotlib.pyplot import *"
   ]
  },
  {
   "cell_type": "code",
   "execution_count": 5,
   "id": "acbc8ae0-3b29-4bf8-adfe-9bce9f4e31f1",
   "metadata": {
    "tags": []
   },
   "outputs": [],
   "source": [
    "bl = cmb.beam(30.,1000,inv=True)"
   ]
  },
  {
   "cell_type": "code",
   "execution_count": 6,
   "id": "398e3002-1ad6-49ce-8944-92eb60d87dc0",
   "metadata": {
    "tags": []
   },
   "outputs": [
    {
     "data": {
      "text/plain": [
       "[<matplotlib.lines.Line2D at 0x7f944006d898>]"
      ]
     },
     "execution_count": 6,
     "metadata": {},
     "output_type": "execute_result"
    },
    {
     "data": {
      "image/png": "[encoded data removed]",
      "text/plain": [
       "<Figure size 432x288 with 1 Axes>"
      ]
     },
     "metadata": {
      "needs_background": "light"
     },
     "output_type": "display_data"
    }
   ],
   "source": [
    "plot(bl)"
   ]
  },
  {
   "cell_type": "code",
   "execution_count": null,
   "id": "3a10dca9-722b-49df-a79c-4356a81606a5",
   "metadata": {},
   "outputs": [],
   "source": []
  }
 ],
 "metadata": {
  "kernelspec": {
   "display_name": "py4so",
   "language": "python",
   "name": "py4so"
  },
  "language_info": {
   "codemirror_mode": {
    "name": "ipython",
    "version": 3
   },
   "file_extension": ".py",
   "mimetype": "text/x-python",
   "name": "python",
   "nbconvert_exporter": "python",
   "pygments_lexer": "ipython3",
   "version": "3.7.2"
  }
 },
 "nbformat": 4,
 "nbformat_minor": 5
}
