{
 "cells": [
  {
   "cell_type": "markdown",
   "metadata": {},
   "source": [
    "### Example of computing binned reduced bispectrum"
   ]
  },
  {
   "cell_type": "code",
   "execution_count": 21,
   "metadata": {},
   "outputs": [],
   "source": [
    "# load modules\n",
    "import numpy as np\n",
    "import basic\n",
    "import curvedsky\n",
    "from matplotlib.pyplot import *"
   ]
  },
  {
   "cell_type": "code",
   "execution_count": 22,
   "metadata": {},
   "outputs": [],
   "source": [
    "# define parameters\n",
    "Tcmb = 2.726e6 # CMB temperature\n",
    "lmax = 1024    # maximum multipole of output normalization\n",
    "bn   = 20      # number of multipole bins"
   ]
  },
  {
   "cell_type": "code",
   "execution_count": 23,
   "metadata": {},
   "outputs": [],
   "source": [
    "# choose multipoles within a multipole bin\n",
    "bp = np.array([np.int(lmax*(i/bn)) for i in range(bn+1)])\n",
    "bc = (bp[1:]+bp[:-1])*.5\n",
    "sL = bp[:2]"
   ]
  },
  {
   "cell_type": "code",
   "execution_count": 24,
   "metadata": {},
   "outputs": [],
   "source": [
    "# load unlensed and lensed Cls\n",
    "ucl = basic.aps.read_cambcls('../data/unlensedcls.dat',2,lmax,5)/Tcmb**2"
   ]
  },
  {
   "cell_type": "code",
   "execution_count": 38,
   "metadata": {},
   "outputs": [],
   "source": [
    "# generate gaussian phi\n",
    "l = np.linspace(0,lmax,lmax+1)\n",
    "glm = curvedsky.utils.gauss1alm(lmax,ucl[3,:]*l**2*(l+1)**2/4.)"
   ]
  },
  {
   "cell_type": "code",
   "execution_count": 39,
   "metadata": {},
   "outputs": [],
   "source": [
    "# compute pmap = gmap + gmap**2\n",
    "plm = curvedsky.bispec.make_quad_gauss(lmax,glm)"
   ]
  },
  {
   "cell_type": "code",
   "execution_count": 40,
   "metadata": {},
   "outputs": [],
   "source": [
    "# compute binned bispectra\n",
    "bl = np.zeros((4,bn))"
   ]
  },
  {
   "cell_type": "code",
   "execution_count": 41,
   "metadata": {},
   "outputs": [],
   "source": [
    "hl = curvedsky.bispec.bispec_norm(bn,bp,bstype='equi')\n",
    "bl[0,:] = curvedsky.bispec.bispec_bin(bn,bp,lmax,plm,bstype='equi') * np.sqrt(4*np.pi)/hl"
   ]
  },
  {
   "cell_type": "code",
   "execution_count": 42,
   "metadata": {},
   "outputs": [],
   "source": [
    "hl = curvedsky.bispec.bispec_norm(bn,bp,bstype='fold')\n",
    "bl[1,:] = curvedsky.bispec.bispec_bin(bn,bp,lmax,plm,bstype='fold') * np.sqrt(4*np.pi)/hl"
   ]
  },
  {
   "cell_type": "code",
   "execution_count": 43,
   "metadata": {},
   "outputs": [],
   "source": [
    "hl = curvedsky.bispec.bispec_norm(bn,bp,bstype='sque',sL=sL)\n",
    "bl[2,:] = curvedsky.bispec.bispec_bin(bn,bp,lmax,plm,bstype='sque',sL=sL) * np.sqrt(4*np.pi)/hl"
   ]
  },
  {
   "cell_type": "code",
   "execution_count": 44,
   "metadata": {},
   "outputs": [],
   "source": [
    "hl = curvedsky.bispec.bispec_norm(bn,bp,bstype='isos')\n",
    "bl[3,:] = curvedsky.bispec.bispec_bin(bn,bp,lmax,plm,bstype='isos')* np.sqrt(4*np.pi)/hl"
   ]
  },
  {
   "cell_type": "code",
   "execution_count": 47,
   "metadata": {},
   "outputs": [
    {
     "data": {
      "text/plain": [
       "[<matplotlib.lines.Line2D at 0x2aab577e3400>]"
      ]
     },
     "execution_count": 47,
     "metadata": {},
     "output_type": "execute_result"
    },
    {
     "data": {
      "image/png": "[encoded data removed]",
      "text/plain": [
       "<Figure size 432x288 with 1 Axes>"
      ]
     },
     "metadata": {
      "needs_background": "light"
     },
     "output_type": "display_data"
    }
   ],
   "source": [
    "#yscale('log')\n",
    "s = 1.\n",
    "plot(bc,s*bl[0,:])\n",
    "plot(bc,s*bl[1,:])\n",
    "plot(bc,s*bl[2,:])\n",
    "plot(bc,s*bl[3,:])"
   ]
  },
  {
   "cell_type": "code",
   "execution_count": null,
   "metadata": {},
   "outputs": [],
   "source": []
  }
 ],
 "metadata": {
  "kernelspec": {
   "display_name": "Python 3",
   "language": "python",
   "name": "python3"
  },
  "language_info": {
   "codemirror_mode": {
    "name": "ipython",
    "version": 3
   },
   "file_extension": ".py",
   "mimetype": "text/x-python",
   "name": "python",
   "nbconvert_exporter": "python",
   "pygments_lexer": "ipython3",
   "version": "3.7.2"
  }
 },
 "nbformat": 4,
 "nbformat_minor": 4
}
