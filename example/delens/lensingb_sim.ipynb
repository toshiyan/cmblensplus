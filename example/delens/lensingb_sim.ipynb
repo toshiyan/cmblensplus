{
 "cells": [
  {
   "cell_type": "markdown",
   "metadata": {},
   "source": [
    "### A quick demonstration of constructing lensing B-mode template"
   ]
  },
  {
   "cell_type": "code",
   "execution_count": 1,
   "metadata": {},
   "outputs": [],
   "source": [
    "# load modules\n",
    "import numpy as np\n",
    "import basic\n",
    "import curvedsky\n",
    "import cmb\n",
    "from matplotlib.pyplot import *"
   ]
  },
  {
   "cell_type": "code",
   "execution_count": 2,
   "metadata": {},
   "outputs": [],
   "source": [
    "# define parameters\n",
    "Tcmb = 2.726e6    # CMB temperature\n",
    "lmax = 3000       # maximum multipole of output cl\n",
    "l = np.linspace(0,lmax,lmax+1)\n",
    "rlmin, rlmax = 2, 2048 # phi multipole range for constructing lensing template\n",
    "elmin, elmax = 2, 2048 # E multipole range for constructing lenisng template"
   ]
  },
  {
   "cell_type": "code",
   "execution_count": 3,
   "metadata": {},
   "outputs": [],
   "source": [
    "# load unlensed and lensed Cls\n",
    "ucl = cmb.read_camb_cls('../data/unlensedcls.dat',ftype='scal',output='array')[:,:lmax+1]\n",
    "lcl = cmb.read_camb_cls('../data/lensedcls.dat',ftype='lens',output='array')[:,:lmax+1]"
   ]
  },
  {
   "cell_type": "code",
   "execution_count": 4,
   "metadata": {},
   "outputs": [],
   "source": [
    "# generate gaussian CMB alms\n",
    "Talm, Ealm, Balm = curvedsky.utils.gaussTEB(lmax,lcl[0,:],lcl[1,:],lcl[2,:],lcl[3,:])\n",
    "# generate gaussian phi\n",
    "glm = curvedsky.utils.gauss1alm(lmax,ucl[3,:])"
   ]
  },
  {
   "cell_type": "code",
   "execution_count": 5,
   "metadata": {},
   "outputs": [],
   "source": [
    "# template lensing B-mode\n",
    "lalm = curvedsky.delens.lensingb(lmax,elmin,elmax,rlmin,rlmax,Ealm[:elmax+1,:elmax+1],glm[:rlmax+1,:rlmax+1])"
   ]
  },
  {
   "cell_type": "code",
   "execution_count": 6,
   "metadata": {},
   "outputs": [],
   "source": [
    "# aps\n",
    "bb = curvedsky.utils.alm2cl(lmax,lalm,lalm)"
   ]
  },
  {
   "cell_type": "code",
   "execution_count": 7,
   "metadata": {},
   "outputs": [
    {
     "data": {
      "text/plain": [
       "<matplotlib.legend.Legend at 0x7fb36b7516d8>"
      ]
     },
     "execution_count": 7,
     "metadata": {},
     "output_type": "execute_result"
    },
    {
     "data": {
      "image/png": "[encoded data removed]",
      "text/plain": [
       "<Figure size 432x288 with 1 Axes>"
      ]
     },
     "metadata": {
      "needs_background": "light"
     },
     "output_type": "display_data"
    }
   ],
   "source": [
    "xlim(2,lmax)\n",
    "xlabel('$L$')\n",
    "ylabel('$C_L^{BB}$')\n",
    "plot(l,bb,label='sim template')\n",
    "plot(l,lcl[2,:],label='full')\n",
    "legend()"
   ]
  },
  {
   "cell_type": "code",
   "execution_count": null,
   "metadata": {},
   "outputs": [],
   "source": []
  }
 ],
 "metadata": {
  "kernelspec": {
   "display_name": "py4so",
   "language": "python",
   "name": "py4so"
  },
  "language_info": {
   "codemirror_mode": {
    "name": "ipython",
    "version": 3
   },
   "file_extension": ".py",
   "mimetype": "text/x-python",
   "name": "python",
   "nbconvert_exporter": "python",
   "pygments_lexer": "ipython3",
   "version": "3.7.2"
  }
 },
 "nbformat": 4,
 "nbformat_minor": 4
}
